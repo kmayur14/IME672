{
  "nbformat": 4,
  "nbformat_minor": 0,
  "metadata": {
    "colab": {
      "name": "IME672_1.ipynb",
      "version": "0.3.2",
      "provenance": [],
      "collapsed_sections": []
    },
    "kernelspec": {
      "name": "python3",
      "display_name": "Python 3"
    }
  },
  "cells": [
    {
      "cell_type": "code",
      "metadata": {
        "id": "ZPaaKM87lEha",
        "colab_type": "code",
        "colab": {}
      },
      "source": [
        "import pandas as pd\n",
        "data = pd.read_csv(\"creditcard.csv\")"
      ],
      "execution_count": 0,
      "outputs": []
    },
    {
      "cell_type": "code",
      "metadata": {
        "id": "4dP0KGS_v_iR",
        "colab_type": "code",
        "colab": {}
      },
      "source": [
        "std_time = data['Time'].std()\n",
        "mean_time=data[\"Time\"].mean()"
      ],
      "execution_count": 0,
      "outputs": []
    },
    {
      "cell_type": "code",
      "metadata": {
        "id": "BicndU4xxeIF",
        "colab_type": "code",
        "colab": {}
      },
      "source": [
        "mean_amount=data[\"Amount\"].mean()\n",
        "std_amount = data['Amount'].std()"
      ],
      "execution_count": 0,
      "outputs": []
    },
    {
      "cell_type": "code",
      "metadata": {
        "id": "Zp81Dew0zOLZ",
        "colab_type": "code",
        "colab": {}
      },
      "source": [
        "data['Time'] = data['Time'].subtract(mean_time)\n",
        "data['Time'] = data['Time'].div(std_time)"
      ],
      "execution_count": 0,
      "outputs": []
    },
    {
      "cell_type": "code",
      "metadata": {
        "id": "cZyEouep0VaR",
        "colab_type": "code",
        "colab": {}
      },
      "source": [
        "data['Amount'] = data['Amount'].subtract(mean_amount)\n",
        "data['Amount'] = data['Amount'].div(std_amount)\n"
      ],
      "execution_count": 0,
      "outputs": []
    },
    {
      "cell_type": "code",
      "metadata": {
        "id": "L_yz5zDF1kGN",
        "colab_type": "code",
        "colab": {}
      },
      "source": [
        "data.to_csv('meta.csv')"
      ],
      "execution_count": 0,
      "outputs": []
    },
    {
      "cell_type": "code",
      "metadata": {
        "id": "tY2d8aVF4iFv",
        "colab_type": "code",
        "colab": {}
      },
      "source": [
        ""
      ],
      "execution_count": 0,
      "outputs": []
    }
  ]
}